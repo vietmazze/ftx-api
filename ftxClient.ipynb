{
 "cells": [
  {
   "cell_type": "code",
   "execution_count": 1,
   "metadata": {},
   "outputs": [],
   "source": [
    "%load_ext dotenv\n",
    "%dotenv keys.env\n",
    "\n",
    "from requests import Request,Session,Response\n",
    "import time\n",
    "import datetime\n",
    "import json\n",
    "import logging\n",
    "import hmac\n",
    "import hashlib\n",
    "import os\n",
    "from dotenv import load_dotenv\n",
    "import urllib\n",
    "from typing import Optional, Dict, Any, List"
   ]
  },
  {
   "cell_type": "code",
   "execution_count": 2,
   "metadata": {},
   "outputs": [
    {
     "data": {
      "text/plain": [
       "'IMnGcWGSpSc4KgMM2kLnSmu8lWo9dFBaxcDIV0Oz'"
      ]
     },
     "execution_count": 2,
     "metadata": {},
     "output_type": "execute_result"
    }
   ],
   "source": [
    "os.getenv('FTX_HUNTER_KEY')\n"
   ]
  },
  {
   "cell_type": "code",
   "execution_count": 3,
   "metadata": {},
   "outputs": [],
   "source": [
    "from colorama import Fore, Back, Style, init\n",
    "logging.basicConfig(level=logging.INFO, format=(\n",
    "    Fore.BLUE + '[+] ' + Style.RESET_ALL + '%(message)s '))\n",
    "logger = logging.getLogger(\"Logger\")"
   ]
  },
  {
   "cell_type": "code",
   "execution_count": 59,
   "metadata": {},
   "outputs": [],
   "source": [
    "class FtxClient:\n",
    "    _ENDPOINT = 'https://ftx.com/api/'\n",
    "    markets = {\n",
    "        \"ATOM\":\"ATOM-PERP\",\n",
    "        \"XTZ\":\"XTZ-PERP\",\n",
    "        \"BTC\":\"BTC-PERP\",\n",
    "        \"ETH\":\"ETH-PERP\"\n",
    "        \n",
    "    }\n",
    "    def __init__(self,subaccount_name = None) -> None:\n",
    "        self._session = Session()\n",
    "        self._api_key = os.getenv('FTX_HUNTER_KEY')\n",
    "        self._api_secret = os.getenv('FTX_HUNTER_SECRET')\n",
    "        self._subaccount_name = subaccount_name\n",
    "    \n",
    "    def _get(self, path: str, params: Optional[Dict[str, Any]] = None) -> Any:\n",
    "        return self._request('GET', path, params=params)\n",
    "    \n",
    "    def _post(self, path: str, params: Optional[Dict[str, Any]] = None) -> Any:\n",
    "        return self._request('POST', path, json=params)\n",
    "    def _delete(self, path: str, params: Optional[Dict[str, Any]] = None) -> Any:\n",
    "        return self._request('DELETE', path, json=params)\n",
    "    def _request(self,method:str,path:str, **kwargs) -> Any:\n",
    "        request = Request(method,self._ENDPOINT + path, **kwargs)\n",
    "        # Apply hash to keys\n",
    "        self._sign_request(request)\n",
    "        # Send the request, similar to req.get() or req.post()\n",
    "        response = self._session.send(request.prepare())\n",
    "        # Clean up response\n",
    "        result = self._process_response(response)\n",
    "        logger.info(f'{result}')\n",
    "    def _sign_request(self,request:Request) -> None:\n",
    "        ts = int(time.time() * 1000)\n",
    "        prepared = request.prepare()\n",
    "        signature_payload = f'{ts}{prepared.method}{prepared.path_url}'.encode()\n",
    "        \n",
    "        if prepared.body:\n",
    "            signature_payload += prepared.body\n",
    "        logger.info(f'{signature_payload}')\n",
    "        signature = hmac.new(self._api_secret.encode(), signature_payload, 'sha256').hexdigest()\n",
    "        request.headers['FTX-KEY'] = self._api_key\n",
    "        request.headers['FTX-SIGN'] = signature\n",
    "        request.headers['FTX-TS'] = str(ts)\n",
    "        if self._subaccount_name:\n",
    "            request.headers['FTX-SUBACCOUNT'] = urllib.parse.quote(self._subaccount_name)\n",
    "    def _process_response(self, response: Response) -> Any:\n",
    "        try:\n",
    "            data = response.json()\n",
    "        except ValueError:\n",
    "            response.raise_for_status()\n",
    "            raise\n",
    "        else:\n",
    "            if not data['success']:\n",
    "                raise Exception(data['error'])\n",
    "            return data['result']\n",
    "    def get_account_info(self) -> dict:\n",
    "        return self._get(f'account')\n",
    "    def list_markets(self) -> List[dict]:\n",
    "        return self._get('markets')\n",
    "    def place_order(self, market: str, side: str, price: float, size: float, type: str = 'limit',\n",
    "                    reduce_only: bool = False, ioc: bool = False, post_only: bool = False,\n",
    "                    clientId: str = None) -> dict:\n",
    "        return self._post('orders', {'market': market,\n",
    "                                     'side': side,\n",
    "                                     'price': price,\n",
    "                                     'size': size,\n",
    "                                     'type': type,\n",
    "                                     'reduceOnly': reduce_only,\n",
    "                                     'ioc': ioc,\n",
    "                                     'postOnly': post_only,\n",
    "                                     'clientId': clientId,\n",
    "                                     })\n",
    "    def place_conditional_order(\n",
    "        self, market: str, side: str, size: float, type: str,\n",
    "        limit_price: float = None, reduce_only: bool = False, cancel: bool = True,\n",
    "        trigger_price: float = None, trail_value: float = None, clientId: str = None) -> dict:\n",
    "        \"\"\"\n",
    "        To send a Stop Market order, set type='stop' and supply a trigger_price\n",
    "        To send a Stop Limit order, also supply a limit_price\n",
    "        To send a Take Profit Market order, set type='trailing_stop' and supply a trigger_price\n",
    "        To send a Trailing Stop order, set type='trailing_stop' and supply a trail_value\n",
    "        \"\"\"\n",
    "        assert type in ('stop', 'take_profit', 'trailing_stop')\n",
    "        assert type not in ('stop', 'take_profit') or trigger_price is not None, \\\n",
    "            'Need trigger prices for stop losses and take profits'\n",
    "        assert type not in ('trailing_stop',) or (trigger_price is None and trail_value is not None), \\\n",
    "            'Trailing stops need a trail value and cannot take a trigger price'\n",
    "\n",
    "        return self._post('conditional_orders',\n",
    "                          {'market': market, 'side': side, 'triggerPrice': trigger_price,\n",
    "                           'size': size, 'reduceOnly': reduce_only, 'type': type,\n",
    "                           'cancelLimitOnTrigger': cancel, 'orderPrice': limit_price, 'clientId': clientId})\n",
    "    \n",
    "    def cancel_order(self, order_id: str) -> dict:\n",
    "        return self._delete(f'orders/{order_id}')\n",
    "\n",
    "    def cancel_orders(self, market_name: str = None, conditional_orders: bool = False,\n",
    "                      limit_orders: bool = False) -> dict:\n",
    "        return self._delete(f'orders', {'market': market_name,\n",
    "                                        'conditionalOrdersOnly': conditional_orders,\n",
    "                                        'limitOrdersOnly': limit_orders,\n",
    "                                        })\n",
    "    def get_open_orders(self, market: str = None) -> List[dict]:\n",
    "        return self._get(f'orders', {'market': market})"
   ]
  },
  {
   "cell_type": "code",
   "execution_count": 60,
   "metadata": {},
   "outputs": [],
   "source": [
    "ftx = FtxClient(subaccount_name = 'hunter-api')"
   ]
  },
  {
   "cell_type": "code",
   "execution_count": 58,
   "metadata": {
    "scrolled": true
   },
   "outputs": [
    {
     "name": "stderr",
     "output_type": "stream",
     "text": [
      "\u001b[34m[+] \u001b[0mb'1595388491448GET/api/account' \n",
      "\u001b[34m[+] \u001b[0m{'backstopProvider': False, 'chargeInterestOnNegativeUsd': False, 'collateral': 96.42603021051, 'freeCollateral': 93.65585789742, 'initialMarginRequirement': 0.1, 'leverage': 10.0, 'liquidating': False, 'maintenanceMarginRequirement': 0.03, 'makerFee': 0.00019, 'marginFraction': None, 'openMarginFraction': 31.558754458170704, 'positionLimit': None, 'positionLimitUsed': None, 'positions': [{'collateralUsed': 0.29771, 'cost': 0.0, 'entryPrice': None, 'estimatedLiquidationPrice': None, 'future': 'XTZ-PERP', 'initialMarginRequirement': 0.1, 'longOrderSize': 1.0, 'maintenanceMarginRequirement': 0.03, 'netSize': 0.0, 'openSize': 1.0, 'realizedPnl': 0.0, 'shortOrderSize': 0.0, 'side': 'buy', 'size': 0.0, 'unrealizedPnl': 0.0}], 'spotLendingEnabled': False, 'spotMarginEnabled': False, 'takerFee': 0.000665, 'totalAccountValue': 96.42603021051, 'totalPositionSize': 0.0, 'useFttCollateral': True, 'username': 'deerhunter001@protonmail.com/hunter-api'} \n"
     ]
    }
   ],
   "source": [
    "ftx.get_account_info()"
   ]
  },
  {
   "cell_type": "code",
   "execution_count": 61,
   "metadata": {},
   "outputs": [
    {
     "name": "stderr",
     "output_type": "stream",
     "text": [
      "\u001b[34m[+] \u001b[0mb'1595388614624GET/api/orders?market=XTZ-PERP' \n",
      "\u001b[34m[+] \u001b[0m[{'avgFillPrice': None, 'clientId': None, 'createdAt': '2020-07-22T03:17:04.890288+00:00', 'filledSize': 0.0, 'future': 'XTZ-PERP', 'id': 6754573045, 'ioc': False, 'liquidation': False, 'market': 'XTZ-PERP', 'postOnly': False, 'price': 1.89, 'reduceOnly': False, 'remainingSize': 1.0, 'side': 'buy', 'size': 1.0, 'status': 'open', 'type': 'limit'}] \n"
     ]
    }
   ],
   "source": [
    "ftx.get_open_orders(ftx.markets.get('XTZ'))"
   ]
  },
  {
   "cell_type": "code",
   "execution_count": 63,
   "metadata": {},
   "outputs": [
    {
     "name": "stderr",
     "output_type": "stream",
     "text": [
      "\u001b[34m[+] \u001b[0mb'1595388682115DELETE/api/orders{\"market\": \"XTZ-PERP\", \"conditionalOrdersOnly\": false, \"limitOrdersOnly\": false}' \n",
      "\u001b[34m[+] \u001b[0mOrders queued for cancellation \n"
     ]
    }
   ],
   "source": [
    "ftx.cancel_orders(market_name=ftx.markets.get('XTZ'))"
   ]
  },
  {
   "cell_type": "code",
   "execution_count": null,
   "metadata": {},
   "outputs": [],
   "source": []
  },
  {
   "cell_type": "code",
   "execution_count": 50,
   "metadata": {},
   "outputs": [],
   "source": [
    "#placing limit order\n",
    "market = ftx.markets.get('XTZ')\n",
    "side = \"buy\"\n",
    "price = \"1.89\"\n",
    "size = 1\n",
    "type = \"limit\"\n",
    "clientId = f'{market}_5'"
   ]
  },
  {
   "cell_type": "code",
   "execution_count": 52,
   "metadata": {},
   "outputs": [
    {
     "name": "stderr",
     "output_type": "stream",
     "text": [
      "\u001b[34m[+] \u001b[0mb'1595387825536POST/api/orders{\"market\": \"XTZ-PERP\", \"side\": \"buy\", \"price\": \"1.89\", \"size\": 1, \"type\": \"limit\", \"reduceOnly\": false, \"ioc\": false, \"postOnly\": false, \"clientId\": null}' \n",
      "\u001b[34m[+] \u001b[0m{'avgFillPrice': None, 'clientId': None, 'createdAt': '2020-07-22T03:17:04.890288+00:00', 'filledSize': 0.0, 'future': 'XTZ-PERP', 'id': 6754573045, 'ioc': False, 'liquidation': False, 'market': 'XTZ-PERP', 'postOnly': False, 'price': 1.89, 'reduceOnly': False, 'remainingSize': 1.0, 'side': 'buy', 'size': 1.0, 'status': 'new', 'type': 'limit'} \n"
     ]
    }
   ],
   "source": [
    "ftx.place_order(market=market, side=side, price=price, size=size, type=type)"
   ]
  },
  {
   "cell_type": "code",
   "execution_count": 53,
   "metadata": {},
   "outputs": [],
   "source": [
    "#placing stoploss - STOP MARKET\n",
    "typeStop = 'stop'\n",
    "market=ftx.markets.get('XTZ')\n",
    "side = \"sell\"\n",
    "trigger_price_stoploss = 1.75\n",
    "sl_clientId = 'stoploss_order2'\n",
    "sizeSL = 1\n",
    "\n",
    "#placing target point - TAKE PROFIT MARKET\n",
    "typeTP = \"take_profit\"\n",
    "market = ftx.markets.get('XTZ')\n",
    "side = \"sell\"\n",
    "trigger_price_tp = 4.5\n",
    "tp_clientId = 'targetpoint_order4'\n",
    "sizeTP = 1"
   ]
  },
  {
   "cell_type": "code",
   "execution_count": null,
   "metadata": {},
   "outputs": [],
   "source": [
    "ftx.place_order(market=market, side=side, price=price, size=size, type=type)\n"
   ]
  },
  {
   "cell_type": "code",
   "execution_count": 54,
   "metadata": {
    "scrolled": true
   },
   "outputs": [
    {
     "name": "stderr",
     "output_type": "stream",
     "text": [
      "\u001b[34m[+] \u001b[0mb'1595387860919POST/api/conditional_orders{\"market\": \"XTZ-PERP\", \"side\": \"sell\", \"triggerPrice\": 1.75, \"size\": 1, \"reduceOnly\": false, \"type\": \"stop\", \"cancelLimitOnTrigger\": true, \"orderPrice\": null, \"clientId\": null}' \n",
      "\u001b[34m[+] \u001b[0m{'cancelReason': None, 'cancelledAt': None, 'createdAt': '2020-07-22T03:17:40.249300+00:00', 'error': None, 'future': 'XTZ-PERP', 'id': 5774886, 'market': 'XTZ-PERP', 'orderId': None, 'orderPrice': None, 'orderType': 'market', 'reduceOnly': False, 'retryUntilFilled': True, 'side': 'sell', 'size': 1.0, 'status': 'open', 'trailStart': None, 'trailValue': None, 'triggerPrice': 1.75, 'triggeredAt': None, 'type': 'stop'} \n"
     ]
    }
   ],
   "source": [
    "ftx.place_conditional_order(market=market,side=side,size=sizeSL,trigger_price = trigger_price_stoploss,type = typeStop,clientId=sl_clientId)\n",
    "#\n"
   ]
  },
  {
   "cell_type": "code",
   "execution_count": 55,
   "metadata": {
    "scrolled": false
   },
   "outputs": [
    {
     "name": "stderr",
     "output_type": "stream",
     "text": [
      "\u001b[34m[+] \u001b[0mb'1595387861758POST/api/conditional_orders{\"market\": \"XTZ-PERP\", \"side\": \"sell\", \"triggerPrice\": 4.5, \"size\": 1, \"reduceOnly\": false, \"type\": \"take_profit\", \"cancelLimitOnTrigger\": true, \"orderPrice\": null, \"clientId\": null}' \n",
      "\u001b[34m[+] \u001b[0m{'cancelReason': None, 'cancelledAt': None, 'createdAt': '2020-07-22T03:17:41.852798+00:00', 'error': None, 'future': 'XTZ-PERP', 'id': 5774892, 'market': 'XTZ-PERP', 'orderId': None, 'orderPrice': None, 'orderType': 'market', 'reduceOnly': False, 'retryUntilFilled': True, 'side': 'sell', 'size': 1.0, 'status': 'open', 'trailStart': None, 'trailValue': None, 'triggerPrice': 4.5, 'triggeredAt': None, 'type': 'take_profit'} \n"
     ]
    }
   ],
   "source": [
    "ftx.place_conditional_order(market=market,side=side,size=sizeTP,trigger_price = trigger_price_tp,type = typeTP)"
   ]
  },
  {
   "cell_type": "code",
   "execution_count": null,
   "metadata": {},
   "outputs": [],
   "source": []
  }
 ],
 "metadata": {
  "kernelspec": {
   "display_name": "Python 3.7.6 64-bit",
   "language": "python",
   "name": "python37664bit79ceda5762434ebe845a20167a38f6e7"
  },
  "language_info": {
   "codemirror_mode": {
    "name": "ipython",
    "version": 3
   },
   "file_extension": ".py",
   "mimetype": "text/x-python",
   "name": "python",
   "nbconvert_exporter": "python",
   "pygments_lexer": "ipython3",
   "version": "3.7.6"
  }
 },
 "nbformat": 4,
 "nbformat_minor": 4
}
