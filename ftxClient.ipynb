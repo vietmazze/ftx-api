{
 "cells": [
  {
   "cell_type": "code",
   "execution_count": 1,
   "metadata": {},
   "outputs": [],
   "source": [
    "%load_ext dotenv\n",
    "%dotenv keys.env\n",
    "\n",
    "from requests import Request,Session,Response\n",
    "import time\n",
    "import datetime\n",
    "import json\n",
    "import logging\n",
    "import hmac\n",
    "import hashlib\n",
    "import os\n",
    "from dotenv import load_dotenv\n",
    "import urllib\n",
    "from typing import Optional, Dict, Any, List"
   ]
  },
  {
   "cell_type": "code",
   "execution_count": 2,
   "metadata": {},
   "outputs": [
    {
     "data": {
      "text/plain": [
       "'IMnGcWGSpSc4KgMM2kLnSmu8lWo9dFBaxcDIV0Oz'"
      ]
     },
     "execution_count": 2,
     "metadata": {},
     "output_type": "execute_result"
    }
   ],
   "source": [
    "os.getenv('FTX_HUNTER_KEY')\n"
   ]
  },
  {
   "cell_type": "code",
   "execution_count": 3,
   "metadata": {},
   "outputs": [],
   "source": [
    "from colorama import Fore, Back, Style, init\n",
    "logging.basicConfig(level=logging.INFO, format=(\n",
    "    Fore.BLUE + '[+] ' + Style.RESET_ALL + '%(message)s '))\n",
    "logger = logging.getLogger(\"Logger\")"
   ]
  },
  {
   "cell_type": "code",
   "execution_count": 4,
   "metadata": {},
   "outputs": [],
   "source": [
    "class FtxClient:\n",
    "    _ENDPOINT = 'https://ftx.com/api/'\n",
    "    markets = {\n",
    "        \"ATOM\":\"ATOM-PERP\",\n",
    "        \"XTZ\":\"XTZ-PERP\",\n",
    "        \"BTC\":\"BTC-PERP\",\n",
    "        \"ETH\":\"ETH-PERP\"\n",
    "        \n",
    "    }\n",
    "    def __init__(self,subaccount_name = None) -> None:\n",
    "        self._session = Session()\n",
    "        self._api_key = os.getenv('FTX_HUNTER_KEY')\n",
    "        self._api_secret = os.getenv('FTX_HUNTER_SECRET')\n",
    "        self._subaccount_name = subaccount_name\n",
    "    \n",
    "    def _get(self, path: str, params: Optional[Dict[str, Any]] = None) -> Any:\n",
    "        return self._request('GET', path, params=params)\n",
    "    \n",
    "    def _post(self, path: str, params: Optional[Dict[str, Any]] = None) -> Any:\n",
    "        return self._request('POST', path, json=params)\n",
    "    def _delete(self, path: str, params: Optional[Dict[str, Any]] = None) -> Any:\n",
    "        return self._request('DELETE', path, json=params)\n",
    "    def _request(self,method:str,path:str, **kwargs) -> Any:\n",
    "        request = Request(method,self._ENDPOINT + path, **kwargs)\n",
    "        # Apply hash to keys\n",
    "        self._sign_request(request)\n",
    "        # Send the request, similar to req.get() or req.post()\n",
    "        response = self._session.send(request.prepare())\n",
    "        # Clean up response\n",
    "        result = self._process_response(response)\n",
    "        logger.info(f'{result}')\n",
    "    def _sign_request(self,request:Request) -> None:\n",
    "        ts = int(time.time() * 1000)\n",
    "        prepared = request.prepare()\n",
    "        signature_payload = f'{ts}{prepared.method}{prepared.path_url}'.encode()\n",
    "        \n",
    "        if prepared.body:\n",
    "            signature_payload += prepared.body\n",
    "        logger.info(f'{signature_payload}')\n",
    "        signature = hmac.new(self._api_secret.encode(), signature_payload, 'sha256').hexdigest()\n",
    "        request.headers['FTX-KEY'] = self._api_key\n",
    "        request.headers['FTX-SIGN'] = signature\n",
    "        request.headers['FTX-TS'] = str(ts)\n",
    "        if self._subaccount_name:\n",
    "            request.headers['FTX-SUBACCOUNT'] = urllib.parse.quote(self._subaccount_name)\n",
    "    def _process_response(self, response: Response) -> Any:\n",
    "        try:\n",
    "            data = response.json()\n",
    "        except ValueError:\n",
    "            response.raise_for_status()\n",
    "            raise\n",
    "        else:\n",
    "            if not data['success']:\n",
    "                raise Exception(data['error'])\n",
    "            return data['result']\n",
    "    def get_account_info(self) -> dict:\n",
    "        return self._get(f'account')\n",
    "    def list_markets(self) -> List[dict]:\n",
    "        return self._get('markets')\n",
    "    def place_order(self, market: str, side: str, price: float, size: float, type: str = 'limit',\n",
    "                    reduce_only: bool = False, ioc: bool = False, post_only: bool = False,\n",
    "                    client_id: str = None) -> dict:\n",
    "        return self._post('orders', {'market': market,\n",
    "                                     'side': side,\n",
    "                                     'price': price,\n",
    "                                     'size': size,\n",
    "                                     'type': type,\n",
    "                                     'reduceOnly': reduce_only,\n",
    "                                     'ioc': ioc,\n",
    "                                     'postOnly': post_only,\n",
    "                                     'clientId': client_id,\n",
    "                                     })\n",
    "    def place_conditional_order(\n",
    "        self, market: str, side: str, size: float, type: str = 'stop',\n",
    "        limit_price: float = None, reduce_only: bool = False, cancel: bool = True,\n",
    "        trigger_price: float = None, trail_value: float = None\n",
    "    ) -> dict:\n",
    "        \"\"\"\n",
    "        To send a Stop Market order, set type='stop' and supply a trigger_price\n",
    "        To send a Stop Limit order, also supply a limit_price\n",
    "        To send a Take Profit Market order, set type='trailing_stop' and supply a trigger_price\n",
    "        To send a Trailing Stop order, set type='trailing_stop' and supply a trail_value\n",
    "        \"\"\"\n",
    "        assert type in ('stop', 'take_profit', 'trailing_stop')\n",
    "        assert type not in ('stop', 'take_profit') or trigger_price is not None, \\\n",
    "            'Need trigger prices for stop losses and take profits'\n",
    "        assert type not in ('trailing_stop',) or (trigger_price is None and trail_value is not None), \\\n",
    "            'Trailing stops need a trail value and cannot take a trigger price'\n",
    "\n",
    "        return self._post('conditional_orders',\n",
    "                          {'market': market, 'side': side, 'triggerPrice': trigger_price,\n",
    "                           'size': size, 'reduceOnly': reduce_only, 'type': type,\n",
    "                           'cancelLimitOnTrigger': cancel, 'orderPrice': limit_price})\n"
   ]
  },
  {
   "cell_type": "code",
   "execution_count": 5,
   "metadata": {},
   "outputs": [],
   "source": [
    "ftx = FtxClient(subaccount_name = 'hunter-api')"
   ]
  },
  {
   "cell_type": "code",
   "execution_count": 6,
   "metadata": {
    "scrolled": true
   },
   "outputs": [
    {
     "name": "stderr",
     "output_type": "stream",
     "text": [
      "\u001b[34m[+] \u001b[0mb'1595193636311GET/api/account' \n",
      "\u001b[34m[+] \u001b[0m{'backstopProvider': False, 'chargeInterestOnNegativeUsd': False, 'collateral': 96.40457750742, 'freeCollateral': 93.93266526364, 'initialMarginRequirement': 0.1, 'leverage': 10.0, 'liquidating': False, 'maintenanceMarginRequirement': 0.03, 'makerFee': 0.00019, 'marginFraction': None, 'openMarginFraction': None, 'positionLimit': None, 'positionLimitUsed': None, 'positions': [], 'spotLendingEnabled': False, 'spotMarginEnabled': False, 'takerFee': 0.000665, 'totalAccountValue': 96.40457750742, 'totalPositionSize': 0.0, 'useFttCollateral': True, 'username': 'deerhunter001@protonmail.com/hunter-api'} \n"
     ]
    }
   ],
   "source": [
    "ftx.get_account_info()"
   ]
  },
  {
   "cell_type": "code",
   "execution_count": 16,
   "metadata": {},
   "outputs": [],
   "source": [
    "#placing limit order\n",
    "market = ftx.markets.get('XTZ')\n",
    "side = \"buy\"\n",
    "price = \"1.89\"\n",
    "size = 1\n",
    "type = \"limit\"\n",
    "client_id = f'{market}_2'"
   ]
  },
  {
   "cell_type": "code",
   "execution_count": 17,
   "metadata": {},
   "outputs": [
    {
     "name": "stderr",
     "output_type": "stream",
     "text": [
      "\u001b[34m[+] \u001b[0mb'1595194243899POST/api/orders{\"market\": \"XTZ-PERP\", \"side\": \"buy\", \"price\": \"1.89\", \"size\": 1, \"type\": \"limit\", \"reduceOnly\": false, \"ioc\": false, \"postOnly\": false, \"clientId\": \"XTZ-PERP_2\"}' \n",
      "\u001b[34m[+] \u001b[0m{'avgFillPrice': None, 'clientId': 'XTZ-PERP_2', 'createdAt': '2020-07-19T21:30:43.721556+00:00', 'filledSize': 0.0, 'future': 'XTZ-PERP', 'id': 6692800923, 'ioc': False, 'liquidation': False, 'market': 'XTZ-PERP', 'postOnly': False, 'price': 1.89, 'reduceOnly': False, 'remainingSize': 1.0, 'side': 'buy', 'size': 1.0, 'status': 'new', 'type': 'limit'} \n"
     ]
    }
   ],
   "source": [
    "ftx.place_order(market=market, side=side, price=price, size=size, type=type,client_id=client_id)"
   ]
  },
  {
   "cell_type": "code",
   "execution_count": null,
   "metadata": {},
   "outputs": [],
   "source": [
    "#placing stoploss - STOP MARKET\n",
    "typeStop = 'stop'\n",
    "market=ftx.markets.get('XTZ')\n",
    "side = \"sell\"\n",
    "trigger_price_stoploss = 1.75\n",
    "\n",
    "#placing target point - TAKE PROFIT MARKET\n",
    "typeTP = \"trailing_stop\"\n",
    "market = ftx.markets.get('XTZ')\n",
    "side = \"sell\"\n",
    "trigger_price_tp = 3.14"
   ]
  }
 ],
 "metadata": {
  "kernelspec": {
   "display_name": "Python 3.7.6 64-bit",
   "language": "python",
   "name": "python37664bit79ceda5762434ebe845a20167a38f6e7"
  },
  "language_info": {
   "codemirror_mode": {
    "name": "ipython",
    "version": 3
   },
   "file_extension": ".py",
   "mimetype": "text/x-python",
   "name": "python",
   "nbconvert_exporter": "python",
   "pygments_lexer": "ipython3",
   "version": "3.7.6"
  }
 },
 "nbformat": 4,
 "nbformat_minor": 4
}
